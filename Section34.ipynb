{
 "cells": [
  {
   "cell_type": "code",
   "execution_count": 42,
   "id": "7c052d3a",
   "metadata": {},
   "outputs": [],
   "source": [
    "import numpy as np\n",
    "import pandas as pd\n",
    "import matplotlib.pyplot as plt\n",
    "import seaborn as sns\n",
    "sns.set()\n",
    "\n",
    "from sklearn.linear_model import LinearRegression"
   ]
  },
  {
   "cell_type": "code",
   "execution_count": 43,
   "id": "3330239a",
   "metadata": {},
   "outputs": [],
   "source": [
    "##Load the Data"
   ]
  },
  {
   "cell_type": "code",
   "execution_count": 44,
   "id": "3dcea482",
   "metadata": {},
   "outputs": [
    {
     "data": {
      "text/html": [
       "<div>\n",
       "<style scoped>\n",
       "    .dataframe tbody tr th:only-of-type {\n",
       "        vertical-align: middle;\n",
       "    }\n",
       "\n",
       "    .dataframe tbody tr th {\n",
       "        vertical-align: top;\n",
       "    }\n",
       "\n",
       "    .dataframe thead th {\n",
       "        text-align: right;\n",
       "    }\n",
       "</style>\n",
       "<table border=\"1\" class=\"dataframe\">\n",
       "  <thead>\n",
       "    <tr style=\"text-align: right;\">\n",
       "      <th></th>\n",
       "      <th>price</th>\n",
       "      <th>size</th>\n",
       "    </tr>\n",
       "  </thead>\n",
       "  <tbody>\n",
       "    <tr>\n",
       "      <th>0</th>\n",
       "      <td>234314.144</td>\n",
       "      <td>643.09</td>\n",
       "    </tr>\n",
       "    <tr>\n",
       "      <th>1</th>\n",
       "      <td>228581.528</td>\n",
       "      <td>656.22</td>\n",
       "    </tr>\n",
       "    <tr>\n",
       "      <th>2</th>\n",
       "      <td>281626.336</td>\n",
       "      <td>487.29</td>\n",
       "    </tr>\n",
       "    <tr>\n",
       "      <th>3</th>\n",
       "      <td>401255.608</td>\n",
       "      <td>1504.75</td>\n",
       "    </tr>\n",
       "    <tr>\n",
       "      <th>4</th>\n",
       "      <td>458674.256</td>\n",
       "      <td>1275.46</td>\n",
       "    </tr>\n",
       "    <tr>\n",
       "      <th>...</th>\n",
       "      <td>...</td>\n",
       "      <td>...</td>\n",
       "    </tr>\n",
       "    <tr>\n",
       "      <th>95</th>\n",
       "      <td>252460.400</td>\n",
       "      <td>549.80</td>\n",
       "    </tr>\n",
       "    <tr>\n",
       "      <th>96</th>\n",
       "      <td>310522.592</td>\n",
       "      <td>1037.44</td>\n",
       "    </tr>\n",
       "    <tr>\n",
       "      <th>97</th>\n",
       "      <td>383635.568</td>\n",
       "      <td>1504.75</td>\n",
       "    </tr>\n",
       "    <tr>\n",
       "      <th>98</th>\n",
       "      <td>225145.248</td>\n",
       "      <td>648.29</td>\n",
       "    </tr>\n",
       "    <tr>\n",
       "      <th>99</th>\n",
       "      <td>274922.856</td>\n",
       "      <td>705.29</td>\n",
       "    </tr>\n",
       "  </tbody>\n",
       "</table>\n",
       "<p>100 rows × 2 columns</p>\n",
       "</div>"
      ],
      "text/plain": [
       "         price     size\n",
       "0   234314.144   643.09\n",
       "1   228581.528   656.22\n",
       "2   281626.336   487.29\n",
       "3   401255.608  1504.75\n",
       "4   458674.256  1275.46\n",
       "..         ...      ...\n",
       "95  252460.400   549.80\n",
       "96  310522.592  1037.44\n",
       "97  383635.568  1504.75\n",
       "98  225145.248   648.29\n",
       "99  274922.856   705.29\n",
       "\n",
       "[100 rows x 2 columns]"
      ]
     },
     "execution_count": 44,
     "metadata": {},
     "output_type": "execute_result"
    }
   ],
   "source": [
    "data = pd.read_csv('real_estate_price_size.csv')\n",
    "data"
   ]
  },
  {
   "cell_type": "code",
   "execution_count": 45,
   "id": "be5456f2",
   "metadata": {},
   "outputs": [
    {
     "data": {
      "text/html": [
       "<div>\n",
       "<style scoped>\n",
       "    .dataframe tbody tr th:only-of-type {\n",
       "        vertical-align: middle;\n",
       "    }\n",
       "\n",
       "    .dataframe tbody tr th {\n",
       "        vertical-align: top;\n",
       "    }\n",
       "\n",
       "    .dataframe thead th {\n",
       "        text-align: right;\n",
       "    }\n",
       "</style>\n",
       "<table border=\"1\" class=\"dataframe\">\n",
       "  <thead>\n",
       "    <tr style=\"text-align: right;\">\n",
       "      <th></th>\n",
       "      <th>price</th>\n",
       "      <th>size</th>\n",
       "    </tr>\n",
       "  </thead>\n",
       "  <tbody>\n",
       "    <tr>\n",
       "      <th>0</th>\n",
       "      <td>234314.144</td>\n",
       "      <td>643.09</td>\n",
       "    </tr>\n",
       "    <tr>\n",
       "      <th>1</th>\n",
       "      <td>228581.528</td>\n",
       "      <td>656.22</td>\n",
       "    </tr>\n",
       "    <tr>\n",
       "      <th>2</th>\n",
       "      <td>281626.336</td>\n",
       "      <td>487.29</td>\n",
       "    </tr>\n",
       "    <tr>\n",
       "      <th>3</th>\n",
       "      <td>401255.608</td>\n",
       "      <td>1504.75</td>\n",
       "    </tr>\n",
       "    <tr>\n",
       "      <th>4</th>\n",
       "      <td>458674.256</td>\n",
       "      <td>1275.46</td>\n",
       "    </tr>\n",
       "  </tbody>\n",
       "</table>\n",
       "</div>"
      ],
      "text/plain": [
       "        price     size\n",
       "0  234314.144   643.09\n",
       "1  228581.528   656.22\n",
       "2  281626.336   487.29\n",
       "3  401255.608  1504.75\n",
       "4  458674.256  1275.46"
      ]
     },
     "execution_count": 45,
     "metadata": {},
     "output_type": "execute_result"
    }
   ],
   "source": [
    "data.head()"
   ]
  },
  {
   "cell_type": "code",
   "execution_count": 46,
   "id": "68ab6f28",
   "metadata": {},
   "outputs": [],
   "source": [
    "y = data['price']\n",
    "x = data['size']"
   ]
  },
  {
   "cell_type": "code",
   "execution_count": 47,
   "id": "8308978f",
   "metadata": {},
   "outputs": [
    {
     "data": {
      "text/plain": [
       "(100,)"
      ]
     },
     "execution_count": 47,
     "metadata": {},
     "output_type": "execute_result"
    }
   ],
   "source": [
    "x.shape"
   ]
  },
  {
   "cell_type": "code",
   "execution_count": 48,
   "id": "34ccf806",
   "metadata": {},
   "outputs": [
    {
     "data": {
      "text/plain": [
       "(100,)"
      ]
     },
     "execution_count": 48,
     "metadata": {},
     "output_type": "execute_result"
    }
   ],
   "source": [
    "y.shape"
   ]
  },
  {
   "cell_type": "code",
   "execution_count": 49,
   "id": "6c586df3",
   "metadata": {},
   "outputs": [],
   "source": [
    "##Shape is in the form of 1D array so we have to change it into matrix format because sklearn will take matrix as input"
   ]
  },
  {
   "cell_type": "code",
   "execution_count": 50,
   "id": "bb7d9078",
   "metadata": {},
   "outputs": [],
   "source": [
    "x_matrix = x.values.reshape(-1,1)"
   ]
  },
  {
   "cell_type": "code",
   "execution_count": 51,
   "id": "84e72b41",
   "metadata": {},
   "outputs": [
    {
     "data": {
      "text/plain": [
       "(100, 1)"
      ]
     },
     "execution_count": 51,
     "metadata": {},
     "output_type": "execute_result"
    }
   ],
   "source": [
    "x_matrix.shape"
   ]
  },
  {
   "cell_type": "code",
   "execution_count": 52,
   "id": "030f6cb4",
   "metadata": {},
   "outputs": [],
   "source": [
    "#Now shape is changed for x"
   ]
  },
  {
   "cell_type": "code",
   "execution_count": 53,
   "id": "3f289b59",
   "metadata": {},
   "outputs": [],
   "source": [
    "#Performing the linear regression now"
   ]
  },
  {
   "cell_type": "code",
   "execution_count": 54,
   "id": "0a323ee5",
   "metadata": {},
   "outputs": [
    {
     "data": {
      "text/plain": [
       "LinearRegression()"
      ]
     },
     "execution_count": 54,
     "metadata": {},
     "output_type": "execute_result"
    }
   ],
   "source": [
    "reg = LinearRegression()\n",
    "reg.fit(x_matrix,y)"
   ]
  },
  {
   "cell_type": "code",
   "execution_count": 55,
   "id": "5f7055c3",
   "metadata": {},
   "outputs": [
    {
     "data": {
      "text/plain": [
       "0.7447391865847587"
      ]
     },
     "execution_count": 55,
     "metadata": {},
     "output_type": "execute_result"
    }
   ],
   "source": [
    "reg.score(x_matrix,y)"
   ]
  },
  {
   "cell_type": "code",
   "execution_count": 56,
   "id": "d42811e7",
   "metadata": {},
   "outputs": [
    {
     "data": {
      "text/plain": [
       "array([223.17874259])"
      ]
     },
     "execution_count": 56,
     "metadata": {},
     "output_type": "execute_result"
    }
   ],
   "source": [
    "reg.coef_"
   ]
  },
  {
   "cell_type": "code",
   "execution_count": 57,
   "id": "8fb4ad93",
   "metadata": {
    "scrolled": true
   },
   "outputs": [
    {
     "data": {
      "text/plain": [
       "101912.60180122912"
      ]
     },
     "execution_count": 57,
     "metadata": {},
     "output_type": "execute_result"
    }
   ],
   "source": [
    "reg.intercept_"
   ]
  },
  {
   "cell_type": "code",
   "execution_count": 58,
   "id": "2779c7ce",
   "metadata": {},
   "outputs": [],
   "source": [
    "#Now plotting the regression line"
   ]
  },
  {
   "cell_type": "code",
   "execution_count": 59,
   "id": "2b124498",
   "metadata": {},
   "outputs": [
    {
     "data": {
      "image/png": "[encoded data removed]",
      "text/plain": [
       "<Figure size 432x288 with 1 Axes>"
      ]
     },
     "metadata": {},
     "output_type": "display_data"
    }
   ],
   "source": [
    "plt.scatter(x,y)\n",
    "yhat = reg.intercept_ + reg.coef_ * x_matrix\n",
    "fig = plt.plot(x, yhat, lw = 2, c = 'red', label = 'Regression Line')\n",
    "plt.xlabel('Price', fontsize = 20)\n",
    "plt.ylabel('Size', fontsize = 20)\n",
    "plt.show()"
   ]
  },
  {
   "cell_type": "code",
   "execution_count": 60,
   "id": "75538359",
   "metadata": {},
   "outputs": [],
   "source": [
    "#Now predicting the values - for 1200 size house"
   ]
  },
  {
   "cell_type": "code",
   "execution_count": 61,
   "id": "6b90061e",
   "metadata": {
    "scrolled": true
   },
   "outputs": [
    {
     "data": {
      "text/plain": [
       "array([369727.09291476])"
      ]
     },
     "execution_count": 61,
     "metadata": {},
     "output_type": "execute_result"
    }
   ],
   "source": [
    "reg.predict([[1200]])"
   ]
  },
  {
   "cell_type": "code",
   "execution_count": 62,
   "id": "6058f212",
   "metadata": {},
   "outputs": [],
   "source": [
    "#Now predicting the values - for 1200, 1100, 900, 700 size house"
   ]
  },
  {
   "cell_type": "code",
   "execution_count": 64,
   "id": "502d00b3",
   "metadata": {},
   "outputs": [
    {
     "data": {
      "text/plain": [
       "array([369727.09291476, 347409.2186553 , 302773.47013638, 258137.72161745])"
      ]
     },
     "execution_count": 64,
     "metadata": {},
     "output_type": "execute_result"
    }
   ],
   "source": [
    "reg.predict([[1200],[1100],[900],[700]])"
   ]
  },
  {
   "cell_type": "markdown",
   "id": "aa9f0935",
   "metadata": {},
   "source": [
    "##Multiple Linear Regression Model"
   ]
  },
  {
   "cell_type": "code",
   "execution_count": 67,
   "id": "42128d5b",
   "metadata": {},
   "outputs": [
    {
     "data": {
      "text/html": [
       "<div>\n",
       "<style scoped>\n",
       "    .dataframe tbody tr th:only-of-type {\n",
       "        vertical-align: middle;\n",
       "    }\n",
       "\n",
       "    .dataframe tbody tr th {\n",
       "        vertical-align: top;\n",
       "    }\n",
       "\n",
       "    .dataframe thead th {\n",
       "        text-align: right;\n",
       "    }\n",
       "</style>\n",
       "<table border=\"1\" class=\"dataframe\">\n",
       "  <thead>\n",
       "    <tr style=\"text-align: right;\">\n",
       "      <th></th>\n",
       "      <th>price</th>\n",
       "      <th>size</th>\n",
       "      <th>year</th>\n",
       "    </tr>\n",
       "  </thead>\n",
       "  <tbody>\n",
       "    <tr>\n",
       "      <th>0</th>\n",
       "      <td>234314.144</td>\n",
       "      <td>643.09</td>\n",
       "      <td>2015</td>\n",
       "    </tr>\n",
       "    <tr>\n",
       "      <th>1</th>\n",
       "      <td>228581.528</td>\n",
       "      <td>656.22</td>\n",
       "      <td>2009</td>\n",
       "    </tr>\n",
       "    <tr>\n",
       "      <th>2</th>\n",
       "      <td>281626.336</td>\n",
       "      <td>487.29</td>\n",
       "      <td>2018</td>\n",
       "    </tr>\n",
       "    <tr>\n",
       "      <th>3</th>\n",
       "      <td>401255.608</td>\n",
       "      <td>1504.75</td>\n",
       "      <td>2015</td>\n",
       "    </tr>\n",
       "    <tr>\n",
       "      <th>4</th>\n",
       "      <td>458674.256</td>\n",
       "      <td>1275.46</td>\n",
       "      <td>2009</td>\n",
       "    </tr>\n",
       "    <tr>\n",
       "      <th>...</th>\n",
       "      <td>...</td>\n",
       "      <td>...</td>\n",
       "      <td>...</td>\n",
       "    </tr>\n",
       "    <tr>\n",
       "      <th>95</th>\n",
       "      <td>252460.400</td>\n",
       "      <td>549.80</td>\n",
       "      <td>2009</td>\n",
       "    </tr>\n",
       "    <tr>\n",
       "      <th>96</th>\n",
       "      <td>310522.592</td>\n",
       "      <td>1037.44</td>\n",
       "      <td>2009</td>\n",
       "    </tr>\n",
       "    <tr>\n",
       "      <th>97</th>\n",
       "      <td>383635.568</td>\n",
       "      <td>1504.75</td>\n",
       "      <td>2006</td>\n",
       "    </tr>\n",
       "    <tr>\n",
       "      <th>98</th>\n",
       "      <td>225145.248</td>\n",
       "      <td>648.29</td>\n",
       "      <td>2015</td>\n",
       "    </tr>\n",
       "    <tr>\n",
       "      <th>99</th>\n",
       "      <td>274922.856</td>\n",
       "      <td>705.29</td>\n",
       "      <td>2006</td>\n",
       "    </tr>\n",
       "  </tbody>\n",
       "</table>\n",
       "<p>100 rows × 3 columns</p>\n",
       "</div>"
      ],
      "text/plain": [
       "         price     size  year\n",
       "0   234314.144   643.09  2015\n",
       "1   228581.528   656.22  2009\n",
       "2   281626.336   487.29  2018\n",
       "3   401255.608  1504.75  2015\n",
       "4   458674.256  1275.46  2009\n",
       "..         ...      ...   ...\n",
       "95  252460.400   549.80  2009\n",
       "96  310522.592  1037.44  2009\n",
       "97  383635.568  1504.75  2006\n",
       "98  225145.248   648.29  2015\n",
       "99  274922.856   705.29  2006\n",
       "\n",
       "[100 rows x 3 columns]"
      ]
     },
     "execution_count": 67,
     "metadata": {},
     "output_type": "execute_result"
    }
   ],
   "source": [
    "data = pd.read_csv('real_estate_price_size_year.csv')\n",
    "data"
   ]
  },
  {
   "cell_type": "code",
   "execution_count": 68,
   "id": "e7b43a0d",
   "metadata": {},
   "outputs": [],
   "source": [
    "x = data[['size','year']]\n",
    "y = data['price']"
   ]
  },
  {
   "cell_type": "code",
   "execution_count": 69,
   "id": "2ace893a",
   "metadata": {},
   "outputs": [
    {
     "data": {
      "text/plain": [
       "(100, 2)"
      ]
     },
     "execution_count": 69,
     "metadata": {},
     "output_type": "execute_result"
    }
   ],
   "source": [
    "x.shape"
   ]
  },
  {
   "cell_type": "code",
   "execution_count": 70,
   "id": "1532d847",
   "metadata": {},
   "outputs": [],
   "source": [
    "#Here we don't have to reshape it because it is not necessary it is already a 2D array"
   ]
  },
  {
   "cell_type": "markdown",
   "id": "27cf95d3",
   "metadata": {},
   "source": [
    "Performing Regression"
   ]
  },
  {
   "cell_type": "code",
   "execution_count": 71,
   "id": "627fb43b",
   "metadata": {},
   "outputs": [
    {
     "data": {
      "text/plain": [
       "LinearRegression()"
      ]
     },
     "execution_count": 71,
     "metadata": {},
     "output_type": "execute_result"
    }
   ],
   "source": [
    "reg = LinearRegression()\n",
    "reg.fit(x,y)"
   ]
  },
  {
   "cell_type": "markdown",
   "id": "88f863db",
   "metadata": {},
   "source": [
    "Coefficients"
   ]
  },
  {
   "cell_type": "code",
   "execution_count": 72,
   "id": "5e118576",
   "metadata": {},
   "outputs": [
    {
     "data": {
      "text/plain": [
       "array([ 227.70085401, 2916.78532684])"
      ]
     },
     "execution_count": 72,
     "metadata": {},
     "output_type": "execute_result"
    }
   ],
   "source": [
    "reg.coef_"
   ]
  },
  {
   "cell_type": "markdown",
   "id": "c7073c1d",
   "metadata": {},
   "source": [
    "Intercept"
   ]
  },
  {
   "cell_type": "code",
   "execution_count": 73,
   "id": "4c86b6af",
   "metadata": {},
   "outputs": [
    {
     "data": {
      "text/plain": [
       "-5772267.017463281"
      ]
     },
     "execution_count": 73,
     "metadata": {},
     "output_type": "execute_result"
    }
   ],
   "source": [
    "reg.intercept_"
   ]
  },
  {
   "cell_type": "code",
   "execution_count": 74,
   "id": "5a955a3b",
   "metadata": {},
   "outputs": [],
   "source": [
    "#Calculation of Adjusted R_square because we don't have any method for that"
   ]
  },
  {
   "cell_type": "markdown",
   "id": "4e362a70",
   "metadata": {},
   "source": [
    "Adjusted R_Square\n",
    "$R^2_{adj.} = 1 - (1-R^2)*\\frac{n-1}{n-p-1}$"
   ]
  },
  {
   "cell_type": "code",
   "execution_count": 76,
   "id": "ff24c9b4",
   "metadata": {},
   "outputs": [],
   "source": [
    "r2 = reg.score(x,y)"
   ]
  },
  {
   "cell_type": "code",
   "execution_count": 77,
   "id": "b01d829c",
   "metadata": {},
   "outputs": [
    {
     "data": {
      "text/plain": [
       "0.7764803683276791"
      ]
     },
     "execution_count": 77,
     "metadata": {},
     "output_type": "execute_result"
    }
   ],
   "source": [
    "r2"
   ]
  },
  {
   "cell_type": "code",
   "execution_count": 78,
   "id": "62f82367",
   "metadata": {},
   "outputs": [
    {
     "data": {
      "text/plain": [
       "(100, 2)"
      ]
     },
     "execution_count": 78,
     "metadata": {},
     "output_type": "execute_result"
    }
   ],
   "source": [
    "x.shape"
   ]
  },
  {
   "cell_type": "code",
   "execution_count": 79,
   "id": "9b503eb9",
   "metadata": {},
   "outputs": [],
   "source": [
    "n = x.shape[0]\n",
    "p = x.shape[1]"
   ]
  },
  {
   "cell_type": "code",
   "execution_count": 82,
   "id": "50cca601",
   "metadata": {},
   "outputs": [],
   "source": [
    "adj_R_square = 1 - (1 - r2)*((n-1)/(n-p-1))"
   ]
  },
  {
   "cell_type": "code",
   "execution_count": 83,
   "id": "9bf0fdc3",
   "metadata": {},
   "outputs": [
    {
     "data": {
      "text/plain": [
       "0.7718717161282498"
      ]
     },
     "execution_count": 83,
     "metadata": {},
     "output_type": "execute_result"
    }
   ],
   "source": [
    "adj_R_square"
   ]
  },
  {
   "cell_type": "markdown",
   "id": "01d0abec",
   "metadata": {},
   "source": [
    "## P- values Calculation using Feature Selection"
   ]
  },
  {
   "cell_type": "code",
   "execution_count": 84,
   "id": "15391622",
   "metadata": {},
   "outputs": [],
   "source": [
    "from sklearn.feature_selection import f_regression"
   ]
  },
  {
   "cell_type": "code",
   "execution_count": 85,
   "id": "e540ed5c",
   "metadata": {},
   "outputs": [
    {
     "data": {
      "text/plain": [
       "(array([285.92105192,   0.85525799]), array([8.12763222e-31, 3.57340758e-01]))"
      ]
     },
     "execution_count": 85,
     "metadata": {},
     "output_type": "execute_result"
    }
   ],
   "source": [
    "f_regression(x,y)"
   ]
  },
  {
   "cell_type": "code",
   "execution_count": 86,
   "id": "fcd7954c",
   "metadata": {},
   "outputs": [],
   "source": [
    "#Here first array shows f-values or f-statistics and second array shows p-values"
   ]
  },
  {
   "cell_type": "code",
   "execution_count": 87,
   "id": "0f926973",
   "metadata": {},
   "outputs": [],
   "source": [
    "p_values = f_regression(x,y)[1]"
   ]
  },
  {
   "cell_type": "code",
   "execution_count": 88,
   "id": "2b4f77b3",
   "metadata": {},
   "outputs": [
    {
     "data": {
      "text/plain": [
       "array([8.12763222e-31, 3.57340758e-01])"
      ]
     },
     "execution_count": 88,
     "metadata": {},
     "output_type": "execute_result"
    }
   ],
   "source": [
    "p_values"
   ]
  },
  {
   "cell_type": "code",
   "execution_count": 89,
   "id": "26743ecc",
   "metadata": {},
   "outputs": [],
   "source": [
    "#Round the p-values upto 3 digits"
   ]
  },
  {
   "cell_type": "code",
   "execution_count": 90,
   "id": "a384675f",
   "metadata": {},
   "outputs": [
    {
     "data": {
      "text/plain": [
       "array([0.   , 0.357])"
      ]
     },
     "execution_count": 90,
     "metadata": {},
     "output_type": "execute_result"
    }
   ],
   "source": [
    "p_values.round(3)"
   ]
  },
  {
   "cell_type": "code",
   "execution_count": 91,
   "id": "56041270",
   "metadata": {},
   "outputs": [],
   "source": [
    "#Here the first entry in array shows almost 0 p-value for size and 0.357 p-value for year"
   ]
  },
  {
   "cell_type": "code",
   "execution_count": 92,
   "id": "8e3a0c1b",
   "metadata": {},
   "outputs": [],
   "source": [
    "#Here p-values shows we have to remove year variable but statsmodel summary shows a different result of p-values = 0 for year"
   ]
  },
  {
   "cell_type": "markdown",
   "id": "7a9f7af3",
   "metadata": {},
   "source": [
    "## Creating a summary table for sklearn"
   ]
  },
  {
   "cell_type": "code",
   "execution_count": 95,
   "id": "a5bfd925",
   "metadata": {},
   "outputs": [],
   "source": [
    "reg_summary = pd.DataFrame(data = x.columns.values, columns = ['Features'])"
   ]
  },
  {
   "cell_type": "code",
   "execution_count": 96,
   "id": "7d95ae7b",
   "metadata": {},
   "outputs": [
    {
     "data": {
      "text/html": [
       "<div>\n",
       "<style scoped>\n",
       "    .dataframe tbody tr th:only-of-type {\n",
       "        vertical-align: middle;\n",
       "    }\n",
       "\n",
       "    .dataframe tbody tr th {\n",
       "        vertical-align: top;\n",
       "    }\n",
       "\n",
       "    .dataframe thead th {\n",
       "        text-align: right;\n",
       "    }\n",
       "</style>\n",
       "<table border=\"1\" class=\"dataframe\">\n",
       "  <thead>\n",
       "    <tr style=\"text-align: right;\">\n",
       "      <th></th>\n",
       "      <th>Features</th>\n",
       "    </tr>\n",
       "  </thead>\n",
       "  <tbody>\n",
       "    <tr>\n",
       "      <th>0</th>\n",
       "      <td>size</td>\n",
       "    </tr>\n",
       "    <tr>\n",
       "      <th>1</th>\n",
       "      <td>year</td>\n",
       "    </tr>\n",
       "  </tbody>\n",
       "</table>\n",
       "</div>"
      ],
      "text/plain": [
       "  Features\n",
       "0     size\n",
       "1     year"
      ]
     },
     "execution_count": 96,
     "metadata": {},
     "output_type": "execute_result"
    }
   ],
   "source": [
    "reg_summary"
   ]
  },
  {
   "cell_type": "code",
   "execution_count": 97,
   "id": "5de5f162",
   "metadata": {},
   "outputs": [],
   "source": [
    "reg_summary['Coefficients'] = reg.coef_"
   ]
  },
  {
   "cell_type": "code",
   "execution_count": 98,
   "id": "27d7d684",
   "metadata": {},
   "outputs": [],
   "source": [
    "reg_summary['p-values'] = p_values.round(3)"
   ]
  },
  {
   "cell_type": "code",
   "execution_count": 99,
   "id": "5a73ec88",
   "metadata": {},
   "outputs": [
    {
     "data": {
      "text/html": [
       "<div>\n",
       "<style scoped>\n",
       "    .dataframe tbody tr th:only-of-type {\n",
       "        vertical-align: middle;\n",
       "    }\n",
       "\n",
       "    .dataframe tbody tr th {\n",
       "        vertical-align: top;\n",
       "    }\n",
       "\n",
       "    .dataframe thead th {\n",
       "        text-align: right;\n",
       "    }\n",
       "</style>\n",
       "<table border=\"1\" class=\"dataframe\">\n",
       "  <thead>\n",
       "    <tr style=\"text-align: right;\">\n",
       "      <th></th>\n",
       "      <th>Features</th>\n",
       "      <th>Coefficients</th>\n",
       "      <th>p-values</th>\n",
       "    </tr>\n",
       "  </thead>\n",
       "  <tbody>\n",
       "    <tr>\n",
       "      <th>0</th>\n",
       "      <td>size</td>\n",
       "      <td>227.700854</td>\n",
       "      <td>0.000</td>\n",
       "    </tr>\n",
       "    <tr>\n",
       "      <th>1</th>\n",
       "      <td>year</td>\n",
       "      <td>2916.785327</td>\n",
       "      <td>0.357</td>\n",
       "    </tr>\n",
       "  </tbody>\n",
       "</table>\n",
       "</div>"
      ],
      "text/plain": [
       "  Features  Coefficients  p-values\n",
       "0     size    227.700854     0.000\n",
       "1     year   2916.785327     0.357"
      ]
     },
     "execution_count": 99,
     "metadata": {},
     "output_type": "execute_result"
    }
   ],
   "source": [
    "reg_summary"
   ]
  },
  {
   "cell_type": "markdown",
   "id": "a34787e5",
   "metadata": {},
   "source": [
    "## Standardization "
   ]
  },
  {
   "cell_type": "code",
   "execution_count": 100,
   "id": "0f7711f7",
   "metadata": {},
   "outputs": [],
   "source": [
    "#Declare dependent and independent variable"
   ]
  },
  {
   "cell_type": "code",
   "execution_count": 102,
   "id": "75f2a4d9",
   "metadata": {},
   "outputs": [],
   "source": [
    "x = data[['size','year']]\n",
    "y = data['price']"
   ]
  },
  {
   "cell_type": "code",
   "execution_count": 103,
   "id": "7bbff0a6",
   "metadata": {},
   "outputs": [
    {
     "data": {
      "text/html": [
       "<div>\n",
       "<style scoped>\n",
       "    .dataframe tbody tr th:only-of-type {\n",
       "        vertical-align: middle;\n",
       "    }\n",
       "\n",
       "    .dataframe tbody tr th {\n",
       "        vertical-align: top;\n",
       "    }\n",
       "\n",
       "    .dataframe thead th {\n",
       "        text-align: right;\n",
       "    }\n",
       "</style>\n",
       "<table border=\"1\" class=\"dataframe\">\n",
       "  <thead>\n",
       "    <tr style=\"text-align: right;\">\n",
       "      <th></th>\n",
       "      <th>size</th>\n",
       "      <th>year</th>\n",
       "    </tr>\n",
       "  </thead>\n",
       "  <tbody>\n",
       "    <tr>\n",
       "      <th>0</th>\n",
       "      <td>643.09</td>\n",
       "      <td>2015</td>\n",
       "    </tr>\n",
       "    <tr>\n",
       "      <th>1</th>\n",
       "      <td>656.22</td>\n",
       "      <td>2009</td>\n",
       "    </tr>\n",
       "    <tr>\n",
       "      <th>2</th>\n",
       "      <td>487.29</td>\n",
       "      <td>2018</td>\n",
       "    </tr>\n",
       "    <tr>\n",
       "      <th>3</th>\n",
       "      <td>1504.75</td>\n",
       "      <td>2015</td>\n",
       "    </tr>\n",
       "    <tr>\n",
       "      <th>4</th>\n",
       "      <td>1275.46</td>\n",
       "      <td>2009</td>\n",
       "    </tr>\n",
       "    <tr>\n",
       "      <th>...</th>\n",
       "      <td>...</td>\n",
       "      <td>...</td>\n",
       "    </tr>\n",
       "    <tr>\n",
       "      <th>95</th>\n",
       "      <td>549.80</td>\n",
       "      <td>2009</td>\n",
       "    </tr>\n",
       "    <tr>\n",
       "      <th>96</th>\n",
       "      <td>1037.44</td>\n",
       "      <td>2009</td>\n",
       "    </tr>\n",
       "    <tr>\n",
       "      <th>97</th>\n",
       "      <td>1504.75</td>\n",
       "      <td>2006</td>\n",
       "    </tr>\n",
       "    <tr>\n",
       "      <th>98</th>\n",
       "      <td>648.29</td>\n",
       "      <td>2015</td>\n",
       "    </tr>\n",
       "    <tr>\n",
       "      <th>99</th>\n",
       "      <td>705.29</td>\n",
       "      <td>2006</td>\n",
       "    </tr>\n",
       "  </tbody>\n",
       "</table>\n",
       "<p>100 rows × 2 columns</p>\n",
       "</div>"
      ],
      "text/plain": [
       "       size  year\n",
       "0    643.09  2015\n",
       "1    656.22  2009\n",
       "2    487.29  2018\n",
       "3   1504.75  2015\n",
       "4   1275.46  2009\n",
       "..      ...   ...\n",
       "95   549.80  2009\n",
       "96  1037.44  2009\n",
       "97  1504.75  2006\n",
       "98   648.29  2015\n",
       "99   705.29  2006\n",
       "\n",
       "[100 rows x 2 columns]"
      ]
     },
     "execution_count": 103,
     "metadata": {},
     "output_type": "execute_result"
    }
   ],
   "source": [
    "x"
   ]
  },
  {
   "cell_type": "markdown",
   "id": "c34e4c90",
   "metadata": {},
   "source": [
    "Standardization Process"
   ]
  },
  {
   "cell_type": "code",
   "execution_count": 104,
   "id": "98d3b1e0",
   "metadata": {},
   "outputs": [],
   "source": [
    "from sklearn.preprocessing import StandardScaler"
   ]
  },
  {
   "cell_type": "code",
   "execution_count": 105,
   "id": "5a585fdb",
   "metadata": {},
   "outputs": [],
   "source": [
    "scaler = StandardScaler()"
   ]
  },
  {
   "cell_type": "code",
   "execution_count": 106,
   "id": "bcec6b27",
   "metadata": {},
   "outputs": [
    {
     "data": {
      "text/plain": [
       "StandardScaler()"
      ]
     },
     "execution_count": 106,
     "metadata": {},
     "output_type": "execute_result"
    }
   ],
   "source": [
    "scaler.fit(x)"
   ]
  },
  {
   "cell_type": "code",
   "execution_count": 108,
   "id": "26b3c67c",
   "metadata": {},
   "outputs": [],
   "source": [
    "x_scaled = scaler.transform(x)"
   ]
  },
  {
   "cell_type": "code",
   "execution_count": 112,
   "id": "01d470c8",
   "metadata": {},
   "outputs": [
    {
     "data": {
      "text/plain": [
       "array([[-0.70816415,  0.51006137],\n",
       "       [-0.66387316, -0.76509206],\n",
       "       [-1.23371919,  1.14763808],\n",
       "       [ 2.19844528,  0.51006137],\n",
       "       [ 1.42498884, -0.76509206],\n",
       "       [-0.937209  , -1.40266877],\n",
       "       [-0.95171405,  0.51006137],\n",
       "       [-0.78328682, -1.40266877],\n",
       "       [-0.57603328,  1.14763808],\n",
       "       [-0.53467702, -0.76509206],\n",
       "       [ 0.69939906, -0.76509206],\n",
       "       [ 3.33780001, -0.76509206],\n",
       "       [-0.53467702,  0.51006137],\n",
       "       [ 0.52699137,  1.14763808],\n",
       "       [ 1.51100715, -1.40266877],\n",
       "       [ 1.77668568, -1.40266877],\n",
       "       [-0.54810263,  1.14763808],\n",
       "       [-0.77276222, -1.40266877],\n",
       "       [-0.58004747, -1.40266877],\n",
       "       [ 0.58943055,  1.14763808],\n",
       "       [-0.78365788,  0.51006137],\n",
       "       [-1.02322731,  0.51006137],\n",
       "       [ 1.19557293,  0.51006137],\n",
       "       [-1.12884431,  0.51006137],\n",
       "       [-1.10378093, -0.76509206],\n",
       "       [ 0.84424715,  1.14763808],\n",
       "       [-0.95171405,  1.14763808],\n",
       "       [ 1.62279723,  0.51006137],\n",
       "       [-0.58004747,  0.51006137],\n",
       "       [ 2.17014356,  0.51006137],\n",
       "       [ 0.5306345 , -1.40266877],\n",
       "       [-0.58004747, -1.40266877],\n",
       "       [-0.8606021 , -0.76509206],\n",
       "       [-1.10378093,  0.51006137],\n",
       "       [ 0.015233  ,  1.14763808],\n",
       "       [-0.77603429,  1.14763808],\n",
       "       [-0.10057126, -1.40266877],\n",
       "       [-0.95387294, -1.40266877],\n",
       "       [-0.56517136,  1.14763808],\n",
       "       [-0.5219598 ,  0.51006137],\n",
       "       [ 0.56983186,  0.51006137],\n",
       "       [-0.57603328,  1.14763808],\n",
       "       [-0.10057126, -0.76509206],\n",
       "       [ 1.62279723, -0.76509206],\n",
       "       [ 0.69939906,  1.14763808],\n",
       "       [-0.5219598 ,  0.51006137],\n",
       "       [-0.7415595 , -0.76509206],\n",
       "       [-0.5219598 , -1.40266877],\n",
       "       [-0.7415595 ,  0.51006137],\n",
       "       [-0.79600403,  0.51006137],\n",
       "       [-0.69328805,  0.51006137],\n",
       "       [ 0.56983186,  0.51006137],\n",
       "       [ 0.56983186, -0.76509206],\n",
       "       [-0.42214483, -1.40266877],\n",
       "       [-0.69328805,  0.51006137],\n",
       "       [ 2.21224194,  1.14763808],\n",
       "       [ 0.6039356 ,  1.14763808],\n",
       "       [ 1.45329055,  0.51006137],\n",
       "       [-0.08495304, -1.40266877],\n",
       "       [-0.95751607,  0.51006137],\n",
       "       [-0.08387359,  1.14763808],\n",
       "       [-0.52125142,  0.51006137],\n",
       "       [ 1.18939985,  0.51006137],\n",
       "       [ 0.56983186, -0.76509206],\n",
       "       [-0.56517136,  0.51006137],\n",
       "       [-0.08748299,  0.51006137],\n",
       "       [ 0.52699137, -1.40266877],\n",
       "       [-1.02285625,  0.51006137],\n",
       "       [-0.56517136,  1.14763808],\n",
       "       [ 2.17014356, -1.40266877],\n",
       "       [ 0.56983186, -0.76509206],\n",
       "       [-0.70708471, -1.40266877],\n",
       "       [-0.66387316,  0.51006137],\n",
       "       [-1.02285625,  0.51006137],\n",
       "       [-0.56517136,  1.14763808],\n",
       "       [-0.56517136,  1.14763808],\n",
       "       [ 1.11464825,  1.14763808],\n",
       "       [ 1.62279723, -1.40266877],\n",
       "       [-0.57603328, -0.76509206],\n",
       "       [ 1.13205431, -1.40266877],\n",
       "       [-0.58004747, -1.40266877],\n",
       "       [ 0.90847416,  0.51006137],\n",
       "       [-0.58004747, -1.40266877],\n",
       "       [-0.70816415,  1.14763808],\n",
       "       [-0.56517136,  1.14763808],\n",
       "       [ 0.52699137,  1.14763808],\n",
       "       [-1.25915362, -1.40266877],\n",
       "       [ 0.59162317, -0.76509206],\n",
       "       [-0.84791862,  1.14763808],\n",
       "       [ 1.29501685,  1.14763808],\n",
       "       [-0.53467702,  1.14763808],\n",
       "       [ 0.73714592,  0.51006137],\n",
       "       [-0.53467702,  0.51006137],\n",
       "       [-0.5219598 ,  1.14763808],\n",
       "       [-0.5219598 , -1.40266877],\n",
       "       [-1.02285625, -0.76509206],\n",
       "       [ 0.62208377, -0.76509206],\n",
       "       [ 2.19844528, -1.40266877],\n",
       "       [-0.69062317,  0.51006137],\n",
       "       [-0.49834693, -1.40266877]])"
      ]
     },
     "execution_count": 112,
     "metadata": {},
     "output_type": "execute_result"
    }
   ],
   "source": [
    "x_scaled"
   ]
  },
  {
   "cell_type": "markdown",
   "id": "e58fa151",
   "metadata": {},
   "source": [
    "## Regression with Scaled Features"
   ]
  },
  {
   "cell_type": "code",
   "execution_count": 113,
   "id": "56985539",
   "metadata": {},
   "outputs": [],
   "source": [
    "reg = LinearRegression()"
   ]
  },
  {
   "cell_type": "code",
   "execution_count": 115,
   "id": "bec34514",
   "metadata": {},
   "outputs": [
    {
     "data": {
      "text/plain": [
       "LinearRegression()"
      ]
     },
     "execution_count": 115,
     "metadata": {},
     "output_type": "execute_result"
    }
   ],
   "source": [
    "reg.fit(x_scaled,y)"
   ]
  },
  {
   "cell_type": "code",
   "execution_count": 116,
   "id": "3e91e7a7",
   "metadata": {},
   "outputs": [
    {
     "data": {
      "text/plain": [
       "array([67501.57614152, 13724.39708231])"
      ]
     },
     "execution_count": 116,
     "metadata": {},
     "output_type": "execute_result"
    }
   ],
   "source": [
    "reg.coef_"
   ]
  },
  {
   "cell_type": "code",
   "execution_count": 117,
   "id": "c00dc6d3",
   "metadata": {},
   "outputs": [
    {
     "data": {
      "text/plain": [
       "292289.4701599997"
      ]
     },
     "execution_count": 117,
     "metadata": {},
     "output_type": "execute_result"
    }
   ],
   "source": [
    "reg.intercept_"
   ]
  },
  {
   "cell_type": "markdown",
   "id": "d369a911",
   "metadata": {},
   "source": [
    "## Creating a summary table"
   ]
  },
  {
   "cell_type": "code",
   "execution_count": 120,
   "id": "3edc0858",
   "metadata": {},
   "outputs": [],
   "source": [
    "reg_summary = pd.DataFrame([['Intercept'],['Size'],['Year']],columns = ['Features'])"
   ]
  },
  {
   "cell_type": "code",
   "execution_count": 121,
   "id": "a44e2a24",
   "metadata": {},
   "outputs": [],
   "source": [
    "reg_summary['Weights'] = reg.intercept_, reg.coef_[0], reg.coef_[1]"
   ]
  },
  {
   "cell_type": "code",
   "execution_count": 122,
   "id": "0743871a",
   "metadata": {},
   "outputs": [
    {
     "data": {
      "text/html": [
       "<div>\n",
       "<style scoped>\n",
       "    .dataframe tbody tr th:only-of-type {\n",
       "        vertical-align: middle;\n",
       "    }\n",
       "\n",
       "    .dataframe tbody tr th {\n",
       "        vertical-align: top;\n",
       "    }\n",
       "\n",
       "    .dataframe thead th {\n",
       "        text-align: right;\n",
       "    }\n",
       "</style>\n",
       "<table border=\"1\" class=\"dataframe\">\n",
       "  <thead>\n",
       "    <tr style=\"text-align: right;\">\n",
       "      <th></th>\n",
       "      <th>Features</th>\n",
       "      <th>Weights</th>\n",
       "    </tr>\n",
       "  </thead>\n",
       "  <tbody>\n",
       "    <tr>\n",
       "      <th>0</th>\n",
       "      <td>Intercept</td>\n",
       "      <td>292289.470160</td>\n",
       "    </tr>\n",
       "    <tr>\n",
       "      <th>1</th>\n",
       "      <td>Size</td>\n",
       "      <td>67501.576142</td>\n",
       "    </tr>\n",
       "    <tr>\n",
       "      <th>2</th>\n",
       "      <td>Year</td>\n",
       "      <td>13724.397082</td>\n",
       "    </tr>\n",
       "  </tbody>\n",
       "</table>\n",
       "</div>"
      ],
      "text/plain": [
       "    Features        Weights\n",
       "0  Intercept  292289.470160\n",
       "1       Size   67501.576142\n",
       "2       Year   13724.397082"
      ]
     },
     "execution_count": 122,
     "metadata": {},
     "output_type": "execute_result"
    }
   ],
   "source": [
    "reg_summary"
   ]
  },
  {
   "cell_type": "code",
   "execution_count": 123,
   "id": "2c1f1a52",
   "metadata": {},
   "outputs": [],
   "source": [
    "# the coefficient of the standardized year (Weight) is 13724.39 which is far from 0 and therefore it has a good amount of impact"
   ]
  },
  {
   "cell_type": "code",
   "execution_count": null,
   "id": "64a9c337",
   "metadata": {},
   "outputs": [],
   "source": []
  }
 ],
 "metadata": {
  "kernelspec": {
   "display_name": "Python 3 (ipykernel)",
   "language": "python",
   "name": "python3"
  },
  "language_info": {
   "codemirror_mode": {
    "name": "ipython",
    "version": 3
   },
   "file_extension": ".py",
   "mimetype": "text/x-python",
   "name": "python",
   "nbconvert_exporter": "python",
   "pygments_lexer": "ipython3",
   "version": "3.9.12"
  }
 },
 "nbformat": 4,
 "nbformat_minor": 5
}
